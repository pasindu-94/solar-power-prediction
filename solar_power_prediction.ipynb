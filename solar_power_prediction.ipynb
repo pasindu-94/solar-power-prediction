{
  "nbformat": 4,
  "nbformat_minor": 0,
  "metadata": {
    "colab": {
      "name": "solar-power-prediction",
      "provenance": [],
      "authorship_tag": "ABX9TyNdwz4nWf89xUWNmG66E+3v",
      "include_colab_link": true
    },
    "kernelspec": {
      "name": "python3",
      "display_name": "Python 3"
    },
    "language_info": {
      "name": "python"
    }
  },
  "cells": [
    {
      "cell_type": "markdown",
      "metadata": {
        "id": "view-in-github",
        "colab_type": "text"
      },
      "source": [
        "<a href=\"https://colab.research.google.com/github/pasindu-94/solar-power-prediction/blob/master/solar_power_prediction.ipynb\" target=\"_parent\"><img src=\"https://colab.research.google.com/assets/colab-badge.svg\" alt=\"Open In Colab\"/></a>"
      ]
    },
    {
      "cell_type": "code",
      "metadata": {
        "id": "P7FgWRGiwRcP"
      },
      "source": [
        ""
      ],
      "execution_count": null,
      "outputs": []
    },
    {
      "cell_type": "markdown",
      "metadata": {
        "id": "obQpKDSaxdAF"
      },
      "source": [
        "#Solar Power Prediction and Forecasting Analysis"
      ]
    },
    {
      "cell_type": "code",
      "metadata": {
        "id": "wEUDYlcrxoO2"
      },
      "source": [
        "import numpy as np\n",
        "import pandas as pd\n",
        "import matplotlib.pyplot as plt\n",
        "import seaborn as sns"
      ],
      "execution_count": 1,
      "outputs": []
    },
    {
      "cell_type": "markdown",
      "metadata": {
        "id": "STDPBjuky1gW"
      },
      "source": [
        "##Load Data Sets"
      ]
    },
    {
      "cell_type": "code",
      "metadata": {
        "id": "Zxp3AfdVy3tc"
      },
      "source": [
        "solar_generation_data_file = 'https://raw.githubusercontent.com/pasindu-94/solar-power-prediction/master/datasets/solar_power_generation_data.csv'\n",
        "weather_data_file = 'https://raw.githubusercontent.com/pasindu-94/solar-power-prediction/master/datasets/weather_sensor_data.csv'\n",
        "\n",
        "# Load CSV File\n",
        "solar_data = pd.read_csv(solar_generation_data_file)\n",
        "weather_data = pd.read_csv(weather_data_file)\n"
      ],
      "execution_count": 6,
      "outputs": []
    },
    {
      "cell_type": "code",
      "metadata": {
        "colab": {
          "base_uri": "https://localhost:8080/",
          "height": 289
        },
        "id": "HeXOYm370lVq",
        "outputId": "8a6a69ed-cada-431e-a9c5-faac8169e8db"
      },
      "source": [
        "solar_data.head()"
      ],
      "execution_count": 8,
      "outputs": [
        {
          "output_type": "execute_result",
          "data": {
            "text/html": [
              "<div>\n",
              "<style scoped>\n",
              "    .dataframe tbody tr th:only-of-type {\n",
              "        vertical-align: middle;\n",
              "    }\n",
              "\n",
              "    .dataframe tbody tr th {\n",
              "        vertical-align: top;\n",
              "    }\n",
              "\n",
              "    .dataframe thead th {\n",
              "        text-align: right;\n",
              "    }\n",
              "</style>\n",
              "<table border=\"1\" class=\"dataframe\">\n",
              "  <thead>\n",
              "    <tr style=\"text-align: right;\">\n",
              "      <th></th>\n",
              "      <th>DATE_TIME</th>\n",
              "      <th>PLANT_ID</th>\n",
              "      <th>SOURCE_KEY</th>\n",
              "      <th>DC_POWER</th>\n",
              "      <th>AC_POWER</th>\n",
              "      <th>DAILY_YIELD</th>\n",
              "      <th>TOTAL_YIELD</th>\n",
              "    </tr>\n",
              "  </thead>\n",
              "  <tbody>\n",
              "    <tr>\n",
              "      <th>0</th>\n",
              "      <td>5/15/2020 0:00</td>\n",
              "      <td>4136001</td>\n",
              "      <td>iq8k7ZNt4Mwm3w0</td>\n",
              "      <td>0.0</td>\n",
              "      <td>0.0</td>\n",
              "      <td>3075.333333</td>\n",
              "      <td>2.247720e+09</td>\n",
              "    </tr>\n",
              "    <tr>\n",
              "      <th>1</th>\n",
              "      <td>5/15/2020 0:15</td>\n",
              "      <td>4136001</td>\n",
              "      <td>iq8k7ZNt4Mwm3w0</td>\n",
              "      <td>0.0</td>\n",
              "      <td>0.0</td>\n",
              "      <td>0.000000</td>\n",
              "      <td>2.247720e+09</td>\n",
              "    </tr>\n",
              "    <tr>\n",
              "      <th>2</th>\n",
              "      <td>5/15/2020 0:30</td>\n",
              "      <td>4136001</td>\n",
              "      <td>iq8k7ZNt4Mwm3w0</td>\n",
              "      <td>0.0</td>\n",
              "      <td>0.0</td>\n",
              "      <td>0.000000</td>\n",
              "      <td>2.247720e+09</td>\n",
              "    </tr>\n",
              "    <tr>\n",
              "      <th>3</th>\n",
              "      <td>5/15/2020 0:45</td>\n",
              "      <td>4136001</td>\n",
              "      <td>iq8k7ZNt4Mwm3w0</td>\n",
              "      <td>0.0</td>\n",
              "      <td>0.0</td>\n",
              "      <td>0.000000</td>\n",
              "      <td>2.247720e+09</td>\n",
              "    </tr>\n",
              "    <tr>\n",
              "      <th>4</th>\n",
              "      <td>5/15/2020 1:00</td>\n",
              "      <td>4136001</td>\n",
              "      <td>iq8k7ZNt4Mwm3w0</td>\n",
              "      <td>0.0</td>\n",
              "      <td>0.0</td>\n",
              "      <td>0.000000</td>\n",
              "      <td>2.247720e+09</td>\n",
              "    </tr>\n",
              "  </tbody>\n",
              "</table>\n",
              "</div>"
            ],
            "text/plain": [
              "        DATE_TIME  PLANT_ID  ...  DAILY_YIELD   TOTAL_YIELD\n",
              "0  5/15/2020 0:00   4136001  ...  3075.333333  2.247720e+09\n",
              "1  5/15/2020 0:15   4136001  ...     0.000000  2.247720e+09\n",
              "2  5/15/2020 0:30   4136001  ...     0.000000  2.247720e+09\n",
              "3  5/15/2020 0:45   4136001  ...     0.000000  2.247720e+09\n",
              "4  5/15/2020 1:00   4136001  ...     0.000000  2.247720e+09\n",
              "\n",
              "[5 rows x 7 columns]"
            ]
          },
          "metadata": {},
          "execution_count": 8
        }
      ]
    },
    {
      "cell_type": "code",
      "metadata": {
        "colab": {
          "base_uri": "https://localhost:8080/",
          "height": 309
        },
        "id": "oV7qwGru0qdV",
        "outputId": "d36c7693-dd78-40d9-a95d-10f3a5e02eb9"
      },
      "source": [
        "weather_data.head()"
      ],
      "execution_count": 9,
      "outputs": [
        {
          "output_type": "execute_result",
          "data": {
            "text/html": [
              "<div>\n",
              "<style scoped>\n",
              "    .dataframe tbody tr th:only-of-type {\n",
              "        vertical-align: middle;\n",
              "    }\n",
              "\n",
              "    .dataframe tbody tr th {\n",
              "        vertical-align: top;\n",
              "    }\n",
              "\n",
              "    .dataframe thead th {\n",
              "        text-align: right;\n",
              "    }\n",
              "</style>\n",
              "<table border=\"1\" class=\"dataframe\">\n",
              "  <thead>\n",
              "    <tr style=\"text-align: right;\">\n",
              "      <th></th>\n",
              "      <th>DATE_TIME</th>\n",
              "      <th>PLANT_ID</th>\n",
              "      <th>SOURCE_KEY</th>\n",
              "      <th>AMBIENT_TEMPERATURE</th>\n",
              "      <th>MODULE_TEMPERATURE</th>\n",
              "      <th>IRRADIATION</th>\n",
              "    </tr>\n",
              "  </thead>\n",
              "  <tbody>\n",
              "    <tr>\n",
              "      <th>0</th>\n",
              "      <td>5/15/2020 0:00</td>\n",
              "      <td>4136001</td>\n",
              "      <td>iq8k7ZNt4Mwm3w0</td>\n",
              "      <td>27.004764</td>\n",
              "      <td>25.060789</td>\n",
              "      <td>0.0</td>\n",
              "    </tr>\n",
              "    <tr>\n",
              "      <th>1</th>\n",
              "      <td>5/15/2020 0:15</td>\n",
              "      <td>4136001</td>\n",
              "      <td>iq8k7ZNt4Mwm3w0</td>\n",
              "      <td>26.880811</td>\n",
              "      <td>24.421869</td>\n",
              "      <td>0.0</td>\n",
              "    </tr>\n",
              "    <tr>\n",
              "      <th>2</th>\n",
              "      <td>5/15/2020 0:30</td>\n",
              "      <td>4136001</td>\n",
              "      <td>iq8k7ZNt4Mwm3w0</td>\n",
              "      <td>26.682055</td>\n",
              "      <td>24.427290</td>\n",
              "      <td>0.0</td>\n",
              "    </tr>\n",
              "    <tr>\n",
              "      <th>3</th>\n",
              "      <td>5/15/2020 0:45</td>\n",
              "      <td>4136001</td>\n",
              "      <td>iq8k7ZNt4Mwm3w0</td>\n",
              "      <td>26.500589</td>\n",
              "      <td>24.420678</td>\n",
              "      <td>0.0</td>\n",
              "    </tr>\n",
              "    <tr>\n",
              "      <th>4</th>\n",
              "      <td>5/15/2020 1:00</td>\n",
              "      <td>4136001</td>\n",
              "      <td>iq8k7ZNt4Mwm3w0</td>\n",
              "      <td>26.596148</td>\n",
              "      <td>25.088210</td>\n",
              "      <td>0.0</td>\n",
              "    </tr>\n",
              "  </tbody>\n",
              "</table>\n",
              "</div>"
            ],
            "text/plain": [
              "        DATE_TIME  PLANT_ID  ... MODULE_TEMPERATURE  IRRADIATION\n",
              "0  5/15/2020 0:00   4136001  ...          25.060789          0.0\n",
              "1  5/15/2020 0:15   4136001  ...          24.421869          0.0\n",
              "2  5/15/2020 0:30   4136001  ...          24.427290          0.0\n",
              "3  5/15/2020 0:45   4136001  ...          24.420678          0.0\n",
              "4  5/15/2020 1:00   4136001  ...          25.088210          0.0\n",
              "\n",
              "[5 rows x 6 columns]"
            ]
          },
          "metadata": {},
          "execution_count": 9
        }
      ]
    }
  ]
}