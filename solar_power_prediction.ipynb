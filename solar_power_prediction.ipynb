{
  "nbformat": 4,
  "nbformat_minor": 0,
  "metadata": {
    "colab": {
      "name": "solar-power-prediction",
      "provenance": [],
      "collapsed_sections": [],
      "authorship_tag": "ABX9TyO+rsb7VDWXxUWL8HSX6fyE",
      "include_colab_link": true
    },
    "kernelspec": {
      "name": "python3",
      "display_name": "Python 3"
    },
    "language_info": {
      "name": "python"
    }
  },
  "cells": [
    {
      "cell_type": "markdown",
      "metadata": {
        "id": "view-in-github",
        "colab_type": "text"
      },
      "source": [
        "<a href=\"https://colab.research.google.com/github/pasindu-94/solar-power-prediction/blob/master/solar_power_prediction.ipynb\" target=\"_parent\"><img src=\"https://colab.research.google.com/assets/colab-badge.svg\" alt=\"Open In Colab\"/></a>"
      ]
    },
    {
      "cell_type": "code",
      "metadata": {
        "id": "P7FgWRGiwRcP"
      },
      "source": [
        ""
      ],
      "execution_count": null,
      "outputs": []
    },
    {
      "cell_type": "markdown",
      "metadata": {
        "id": "obQpKDSaxdAF"
      },
      "source": [
        "#Solar Power Prediction and Forecasting Analysis"
      ]
    },
    {
      "cell_type": "code",
      "metadata": {
        "id": "wEUDYlcrxoO2"
      },
      "source": [
        "import numpy as np\n",
        "import pandas as pd\n",
        "import matplotlib.pyplot as plt\n",
        "import seaborn as sns"
      ],
      "execution_count": 47,
      "outputs": []
    },
    {
      "cell_type": "markdown",
      "metadata": {
        "id": "STDPBjuky1gW"
      },
      "source": [
        "##Load Data Sets"
      ]
    },
    {
      "cell_type": "code",
      "metadata": {
        "id": "Zxp3AfdVy3tc"
      },
      "source": [
        "solar_generation_data_file = 'https://raw.githubusercontent.com/pasindu-94/solar-power-prediction/master/datasets/solar_power_generation_data.csv'\n",
        "weather_data_file = 'https://raw.githubusercontent.com/pasindu-94/solar-power-prediction/master/datasets/weather_sensor_data.csv'\n",
        "\n",
        "# Load CSV File\n",
        "solar_data = pd.read_csv(solar_generation_data_file)\n",
        "weather_data = pd.read_csv(weather_data_file)\n"
      ],
      "execution_count": 48,
      "outputs": []
    },
    {
      "cell_type": "code",
      "metadata": {
        "colab": {
          "base_uri": "https://localhost:8080/",
          "height": 203
        },
        "id": "HeXOYm370lVq",
        "outputId": "8082782b-7aae-4b9f-bb53-d4accdf4c049"
      },
      "source": [
        "solar_data.head()"
      ],
      "execution_count": 49,
      "outputs": [
        {
          "output_type": "execute_result",
          "data": {
            "text/html": [
              "<div>\n",
              "<style scoped>\n",
              "    .dataframe tbody tr th:only-of-type {\n",
              "        vertical-align: middle;\n",
              "    }\n",
              "\n",
              "    .dataframe tbody tr th {\n",
              "        vertical-align: top;\n",
              "    }\n",
              "\n",
              "    .dataframe thead th {\n",
              "        text-align: right;\n",
              "    }\n",
              "</style>\n",
              "<table border=\"1\" class=\"dataframe\">\n",
              "  <thead>\n",
              "    <tr style=\"text-align: right;\">\n",
              "      <th></th>\n",
              "      <th>DATE_TIME</th>\n",
              "      <th>PLANT_ID</th>\n",
              "      <th>SOURCE_KEY</th>\n",
              "      <th>DC_POWER</th>\n",
              "      <th>AC_POWER</th>\n",
              "      <th>DAILY_YIELD</th>\n",
              "      <th>TOTAL_YIELD</th>\n",
              "    </tr>\n",
              "  </thead>\n",
              "  <tbody>\n",
              "    <tr>\n",
              "      <th>0</th>\n",
              "      <td>5/15/2020 0:00</td>\n",
              "      <td>4136001</td>\n",
              "      <td>iq8k7ZNt4Mwm3w0</td>\n",
              "      <td>0.0</td>\n",
              "      <td>0.0</td>\n",
              "      <td>3075.333333</td>\n",
              "      <td>2.247720e+09</td>\n",
              "    </tr>\n",
              "    <tr>\n",
              "      <th>1</th>\n",
              "      <td>5/15/2020 0:15</td>\n",
              "      <td>4136001</td>\n",
              "      <td>iq8k7ZNt4Mwm3w0</td>\n",
              "      <td>0.0</td>\n",
              "      <td>0.0</td>\n",
              "      <td>0.000000</td>\n",
              "      <td>2.247720e+09</td>\n",
              "    </tr>\n",
              "    <tr>\n",
              "      <th>2</th>\n",
              "      <td>5/15/2020 0:30</td>\n",
              "      <td>4136001</td>\n",
              "      <td>iq8k7ZNt4Mwm3w0</td>\n",
              "      <td>0.0</td>\n",
              "      <td>0.0</td>\n",
              "      <td>0.000000</td>\n",
              "      <td>2.247720e+09</td>\n",
              "    </tr>\n",
              "    <tr>\n",
              "      <th>3</th>\n",
              "      <td>5/15/2020 0:45</td>\n",
              "      <td>4136001</td>\n",
              "      <td>iq8k7ZNt4Mwm3w0</td>\n",
              "      <td>0.0</td>\n",
              "      <td>0.0</td>\n",
              "      <td>0.000000</td>\n",
              "      <td>2.247720e+09</td>\n",
              "    </tr>\n",
              "    <tr>\n",
              "      <th>4</th>\n",
              "      <td>5/15/2020 1:00</td>\n",
              "      <td>4136001</td>\n",
              "      <td>iq8k7ZNt4Mwm3w0</td>\n",
              "      <td>0.0</td>\n",
              "      <td>0.0</td>\n",
              "      <td>0.000000</td>\n",
              "      <td>2.247720e+09</td>\n",
              "    </tr>\n",
              "  </tbody>\n",
              "</table>\n",
              "</div>"
            ],
            "text/plain": [
              "        DATE_TIME  PLANT_ID  ...  DAILY_YIELD   TOTAL_YIELD\n",
              "0  5/15/2020 0:00   4136001  ...  3075.333333  2.247720e+09\n",
              "1  5/15/2020 0:15   4136001  ...     0.000000  2.247720e+09\n",
              "2  5/15/2020 0:30   4136001  ...     0.000000  2.247720e+09\n",
              "3  5/15/2020 0:45   4136001  ...     0.000000  2.247720e+09\n",
              "4  5/15/2020 1:00   4136001  ...     0.000000  2.247720e+09\n",
              "\n",
              "[5 rows x 7 columns]"
            ]
          },
          "metadata": {},
          "execution_count": 49
        }
      ]
    },
    {
      "cell_type": "code",
      "metadata": {
        "colab": {
          "base_uri": "https://localhost:8080/",
          "height": 203
        },
        "id": "oV7qwGru0qdV",
        "outputId": "7d0bff6b-f63d-47d2-80b1-0e68d69959aa"
      },
      "source": [
        "weather_data.head()"
      ],
      "execution_count": 50,
      "outputs": [
        {
          "output_type": "execute_result",
          "data": {
            "text/html": [
              "<div>\n",
              "<style scoped>\n",
              "    .dataframe tbody tr th:only-of-type {\n",
              "        vertical-align: middle;\n",
              "    }\n",
              "\n",
              "    .dataframe tbody tr th {\n",
              "        vertical-align: top;\n",
              "    }\n",
              "\n",
              "    .dataframe thead th {\n",
              "        text-align: right;\n",
              "    }\n",
              "</style>\n",
              "<table border=\"1\" class=\"dataframe\">\n",
              "  <thead>\n",
              "    <tr style=\"text-align: right;\">\n",
              "      <th></th>\n",
              "      <th>DATE_TIME</th>\n",
              "      <th>PLANT_ID</th>\n",
              "      <th>SOURCE_KEY</th>\n",
              "      <th>AMBIENT_TEMPERATURE</th>\n",
              "      <th>MODULE_TEMPERATURE</th>\n",
              "      <th>IRRADIATION</th>\n",
              "    </tr>\n",
              "  </thead>\n",
              "  <tbody>\n",
              "    <tr>\n",
              "      <th>0</th>\n",
              "      <td>5/15/2020 0:00</td>\n",
              "      <td>4136001</td>\n",
              "      <td>iq8k7ZNt4Mwm3w0</td>\n",
              "      <td>27.004764</td>\n",
              "      <td>25.060789</td>\n",
              "      <td>0.0</td>\n",
              "    </tr>\n",
              "    <tr>\n",
              "      <th>1</th>\n",
              "      <td>5/15/2020 0:15</td>\n",
              "      <td>4136001</td>\n",
              "      <td>iq8k7ZNt4Mwm3w0</td>\n",
              "      <td>26.880811</td>\n",
              "      <td>24.421869</td>\n",
              "      <td>0.0</td>\n",
              "    </tr>\n",
              "    <tr>\n",
              "      <th>2</th>\n",
              "      <td>5/15/2020 0:30</td>\n",
              "      <td>4136001</td>\n",
              "      <td>iq8k7ZNt4Mwm3w0</td>\n",
              "      <td>26.682055</td>\n",
              "      <td>24.427290</td>\n",
              "      <td>0.0</td>\n",
              "    </tr>\n",
              "    <tr>\n",
              "      <th>3</th>\n",
              "      <td>5/15/2020 0:45</td>\n",
              "      <td>4136001</td>\n",
              "      <td>iq8k7ZNt4Mwm3w0</td>\n",
              "      <td>26.500589</td>\n",
              "      <td>24.420678</td>\n",
              "      <td>0.0</td>\n",
              "    </tr>\n",
              "    <tr>\n",
              "      <th>4</th>\n",
              "      <td>5/15/2020 1:00</td>\n",
              "      <td>4136001</td>\n",
              "      <td>iq8k7ZNt4Mwm3w0</td>\n",
              "      <td>26.596148</td>\n",
              "      <td>25.088210</td>\n",
              "      <td>0.0</td>\n",
              "    </tr>\n",
              "  </tbody>\n",
              "</table>\n",
              "</div>"
            ],
            "text/plain": [
              "        DATE_TIME  PLANT_ID  ... MODULE_TEMPERATURE  IRRADIATION\n",
              "0  5/15/2020 0:00   4136001  ...          25.060789          0.0\n",
              "1  5/15/2020 0:15   4136001  ...          24.421869          0.0\n",
              "2  5/15/2020 0:30   4136001  ...          24.427290          0.0\n",
              "3  5/15/2020 0:45   4136001  ...          24.420678          0.0\n",
              "4  5/15/2020 1:00   4136001  ...          25.088210          0.0\n",
              "\n",
              "[5 rows x 6 columns]"
            ]
          },
          "metadata": {},
          "execution_count": 50
        }
      ]
    },
    {
      "cell_type": "markdown",
      "metadata": {
        "id": "mm5zaw1X1Waj"
      },
      "source": [
        "##Data Set Preprocessing for Analysis"
      ]
    },
    {
      "cell_type": "markdown",
      "metadata": {
        "id": "YLOHAbw410fs"
      },
      "source": [
        "###Solar Generation Data"
      ]
    },
    {
      "cell_type": "code",
      "metadata": {
        "colab": {
          "base_uri": "https://localhost:8080/"
        },
        "id": "F30KeCX71brF",
        "outputId": "641039df-e214-42b3-9a32-d45f53a6ce35"
      },
      "source": [
        "solar_data.shape"
      ],
      "execution_count": 51,
      "outputs": [
        {
          "output_type": "execute_result",
          "data": {
            "text/plain": [
              "(3259, 7)"
            ]
          },
          "metadata": {},
          "execution_count": 51
        }
      ]
    },
    {
      "cell_type": "code",
      "metadata": {
        "colab": {
          "base_uri": "https://localhost:8080/",
          "height": 265
        },
        "id": "ix0128Rh16FL",
        "outputId": "6d5db92a-26a1-4e30-a4f6-6bfa2bf8e19d"
      },
      "source": [
        "solar_data.describe(include='all').transpose()"
      ],
      "execution_count": 52,
      "outputs": [
        {
          "output_type": "execute_result",
          "data": {
            "text/html": [
              "<div>\n",
              "<style scoped>\n",
              "    .dataframe tbody tr th:only-of-type {\n",
              "        vertical-align: middle;\n",
              "    }\n",
              "\n",
              "    .dataframe tbody tr th {\n",
              "        vertical-align: top;\n",
              "    }\n",
              "\n",
              "    .dataframe thead th {\n",
              "        text-align: right;\n",
              "    }\n",
              "</style>\n",
              "<table border=\"1\" class=\"dataframe\">\n",
              "  <thead>\n",
              "    <tr style=\"text-align: right;\">\n",
              "      <th></th>\n",
              "      <th>count</th>\n",
              "      <th>unique</th>\n",
              "      <th>top</th>\n",
              "      <th>freq</th>\n",
              "      <th>mean</th>\n",
              "      <th>std</th>\n",
              "      <th>min</th>\n",
              "      <th>25%</th>\n",
              "      <th>50%</th>\n",
              "      <th>75%</th>\n",
              "      <th>max</th>\n",
              "    </tr>\n",
              "  </thead>\n",
              "  <tbody>\n",
              "    <tr>\n",
              "      <th>DATE_TIME</th>\n",
              "      <td>3259</td>\n",
              "      <td>3259</td>\n",
              "      <td>5/25/2020 3:15</td>\n",
              "      <td>1</td>\n",
              "      <td>NaN</td>\n",
              "      <td>NaN</td>\n",
              "      <td>NaN</td>\n",
              "      <td>NaN</td>\n",
              "      <td>NaN</td>\n",
              "      <td>NaN</td>\n",
              "      <td>NaN</td>\n",
              "    </tr>\n",
              "    <tr>\n",
              "      <th>PLANT_ID</th>\n",
              "      <td>3259</td>\n",
              "      <td>NaN</td>\n",
              "      <td>NaN</td>\n",
              "      <td>NaN</td>\n",
              "      <td>4.136e+06</td>\n",
              "      <td>0</td>\n",
              "      <td>4.136e+06</td>\n",
              "      <td>4.136e+06</td>\n",
              "      <td>4.136e+06</td>\n",
              "      <td>4.136e+06</td>\n",
              "      <td>4.136e+06</td>\n",
              "    </tr>\n",
              "    <tr>\n",
              "      <th>SOURCE_KEY</th>\n",
              "      <td>3259</td>\n",
              "      <td>1</td>\n",
              "      <td>iq8k7ZNt4Mwm3w0</td>\n",
              "      <td>3259</td>\n",
              "      <td>NaN</td>\n",
              "      <td>NaN</td>\n",
              "      <td>NaN</td>\n",
              "      <td>NaN</td>\n",
              "      <td>NaN</td>\n",
              "      <td>NaN</td>\n",
              "      <td>NaN</td>\n",
              "    </tr>\n",
              "    <tr>\n",
              "      <th>DC_POWER</th>\n",
              "      <td>3259</td>\n",
              "      <td>NaN</td>\n",
              "      <td>NaN</td>\n",
              "      <td>NaN</td>\n",
              "      <td>244.653</td>\n",
              "      <td>369.796</td>\n",
              "      <td>0</td>\n",
              "      <td>0</td>\n",
              "      <td>0</td>\n",
              "      <td>449.169</td>\n",
              "      <td>1396.59</td>\n",
              "    </tr>\n",
              "    <tr>\n",
              "      <th>AC_POWER</th>\n",
              "      <td>3259</td>\n",
              "      <td>NaN</td>\n",
              "      <td>NaN</td>\n",
              "      <td>NaN</td>\n",
              "      <td>239.282</td>\n",
              "      <td>361.384</td>\n",
              "      <td>0</td>\n",
              "      <td>0</td>\n",
              "      <td>0</td>\n",
              "      <td>440.861</td>\n",
              "      <td>1361.67</td>\n",
              "    </tr>\n",
              "    <tr>\n",
              "      <th>DAILY_YIELD</th>\n",
              "      <td>3259</td>\n",
              "      <td>NaN</td>\n",
              "      <td>NaN</td>\n",
              "      <td>NaN</td>\n",
              "      <td>2793.97</td>\n",
              "      <td>2885.14</td>\n",
              "      <td>0</td>\n",
              "      <td>0</td>\n",
              "      <td>2002.47</td>\n",
              "      <td>4543</td>\n",
              "      <td>9246</td>\n",
              "    </tr>\n",
              "    <tr>\n",
              "      <th>TOTAL_YIELD</th>\n",
              "      <td>3259</td>\n",
              "      <td>NaN</td>\n",
              "      <td>NaN</td>\n",
              "      <td>NaN</td>\n",
              "      <td>2.21514e+09</td>\n",
              "      <td>2.43027e+08</td>\n",
              "      <td>0</td>\n",
              "      <td>2.24777e+09</td>\n",
              "      <td>2.24784e+09</td>\n",
              "      <td>2.24787e+09</td>\n",
              "      <td>2.24792e+09</td>\n",
              "    </tr>\n",
              "  </tbody>\n",
              "</table>\n",
              "</div>"
            ],
            "text/plain": [
              "            count unique  ...          75%          max\n",
              "DATE_TIME    3259   3259  ...          NaN          NaN\n",
              "PLANT_ID     3259    NaN  ...    4.136e+06    4.136e+06\n",
              "SOURCE_KEY   3259      1  ...          NaN          NaN\n",
              "DC_POWER     3259    NaN  ...      449.169      1396.59\n",
              "AC_POWER     3259    NaN  ...      440.861      1361.67\n",
              "DAILY_YIELD  3259    NaN  ...         4543         9246\n",
              "TOTAL_YIELD  3259    NaN  ...  2.24787e+09  2.24792e+09\n",
              "\n",
              "[7 rows x 11 columns]"
            ]
          },
          "metadata": {},
          "execution_count": 52
        }
      ]
    },
    {
      "cell_type": "markdown",
      "metadata": {
        "id": "r4c5G4mW3NL6"
      },
      "source": [
        "####Drop Unnecessary Columns\n",
        "\n",
        "*   Dropping **SOURCE_KEY** since its common for all rows\n",
        "*   Dropping **PLANT_ID** since its common for all rows\n",
        "*   Dropping **TOTAL_YIELD** since the prediction is based on time and the day both\n",
        "\n",
        "\n",
        "\n",
        "\n"
      ]
    },
    {
      "cell_type": "code",
      "metadata": {
        "colab": {
          "base_uri": "https://localhost:8080/",
          "height": 203
        },
        "id": "4wtst4vu3WwF",
        "outputId": "6d30e1cc-32a2-497e-bdaf-2fcd614f5b80"
      },
      "source": [
        "solar_data.drop(labels='SOURCE_KEY', axis=1, inplace=True)\n",
        "solar_data.drop(labels='PLANT_ID', axis=1, inplace=True)\n",
        "solar_data.drop(labels='TOTAL_YIELD', axis=1, inplace=True)\n",
        "\n",
        "solar_data.head()"
      ],
      "execution_count": 53,
      "outputs": [
        {
          "output_type": "execute_result",
          "data": {
            "text/html": [
              "<div>\n",
              "<style scoped>\n",
              "    .dataframe tbody tr th:only-of-type {\n",
              "        vertical-align: middle;\n",
              "    }\n",
              "\n",
              "    .dataframe tbody tr th {\n",
              "        vertical-align: top;\n",
              "    }\n",
              "\n",
              "    .dataframe thead th {\n",
              "        text-align: right;\n",
              "    }\n",
              "</style>\n",
              "<table border=\"1\" class=\"dataframe\">\n",
              "  <thead>\n",
              "    <tr style=\"text-align: right;\">\n",
              "      <th></th>\n",
              "      <th>DATE_TIME</th>\n",
              "      <th>DC_POWER</th>\n",
              "      <th>AC_POWER</th>\n",
              "      <th>DAILY_YIELD</th>\n",
              "    </tr>\n",
              "  </thead>\n",
              "  <tbody>\n",
              "    <tr>\n",
              "      <th>0</th>\n",
              "      <td>5/15/2020 0:00</td>\n",
              "      <td>0.0</td>\n",
              "      <td>0.0</td>\n",
              "      <td>3075.333333</td>\n",
              "    </tr>\n",
              "    <tr>\n",
              "      <th>1</th>\n",
              "      <td>5/15/2020 0:15</td>\n",
              "      <td>0.0</td>\n",
              "      <td>0.0</td>\n",
              "      <td>0.000000</td>\n",
              "    </tr>\n",
              "    <tr>\n",
              "      <th>2</th>\n",
              "      <td>5/15/2020 0:30</td>\n",
              "      <td>0.0</td>\n",
              "      <td>0.0</td>\n",
              "      <td>0.000000</td>\n",
              "    </tr>\n",
              "    <tr>\n",
              "      <th>3</th>\n",
              "      <td>5/15/2020 0:45</td>\n",
              "      <td>0.0</td>\n",
              "      <td>0.0</td>\n",
              "      <td>0.000000</td>\n",
              "    </tr>\n",
              "    <tr>\n",
              "      <th>4</th>\n",
              "      <td>5/15/2020 1:00</td>\n",
              "      <td>0.0</td>\n",
              "      <td>0.0</td>\n",
              "      <td>0.000000</td>\n",
              "    </tr>\n",
              "  </tbody>\n",
              "</table>\n",
              "</div>"
            ],
            "text/plain": [
              "        DATE_TIME  DC_POWER  AC_POWER  DAILY_YIELD\n",
              "0  5/15/2020 0:00       0.0       0.0  3075.333333\n",
              "1  5/15/2020 0:15       0.0       0.0     0.000000\n",
              "2  5/15/2020 0:30       0.0       0.0     0.000000\n",
              "3  5/15/2020 0:45       0.0       0.0     0.000000\n",
              "4  5/15/2020 1:00       0.0       0.0     0.000000"
            ]
          },
          "metadata": {},
          "execution_count": 53
        }
      ]
    },
    {
      "cell_type": "markdown",
      "metadata": {
        "id": "Ap_9OaWx-lLC"
      },
      "source": [
        "####Missing Value Check"
      ]
    },
    {
      "cell_type": "code",
      "metadata": {
        "colab": {
          "base_uri": "https://localhost:8080/"
        },
        "id": "DqFcDi9Z-Zgf",
        "outputId": "b72c651e-bf39-49f6-edd4-63545d33a9be"
      },
      "source": [
        "solar_data.isnull().sum()"
      ],
      "execution_count": 54,
      "outputs": [
        {
          "output_type": "execute_result",
          "data": {
            "text/plain": [
              "DATE_TIME      0\n",
              "DC_POWER       0\n",
              "AC_POWER       0\n",
              "DAILY_YIELD    0\n",
              "dtype: int64"
            ]
          },
          "metadata": {},
          "execution_count": 54
        }
      ]
    },
    {
      "cell_type": "markdown",
      "metadata": {
        "id": "VJk7fac-7BGg"
      },
      "source": [
        "####Formating Date & Time"
      ]
    },
    {
      "cell_type": "code",
      "metadata": {
        "colab": {
          "base_uri": "https://localhost:8080/",
          "height": 203
        },
        "id": "__whBep58Top",
        "outputId": "ede99812-ba02-491b-9f53-088e85b07534"
      },
      "source": [
        "solar_data['DATE_TIME'] = pd.to_datetime(solar_data['DATE_TIME'])\n",
        "solar_data.head()"
      ],
      "execution_count": 55,
      "outputs": [
        {
          "output_type": "execute_result",
          "data": {
            "text/html": [
              "<div>\n",
              "<style scoped>\n",
              "    .dataframe tbody tr th:only-of-type {\n",
              "        vertical-align: middle;\n",
              "    }\n",
              "\n",
              "    .dataframe tbody tr th {\n",
              "        vertical-align: top;\n",
              "    }\n",
              "\n",
              "    .dataframe thead th {\n",
              "        text-align: right;\n",
              "    }\n",
              "</style>\n",
              "<table border=\"1\" class=\"dataframe\">\n",
              "  <thead>\n",
              "    <tr style=\"text-align: right;\">\n",
              "      <th></th>\n",
              "      <th>DATE_TIME</th>\n",
              "      <th>DC_POWER</th>\n",
              "      <th>AC_POWER</th>\n",
              "      <th>DAILY_YIELD</th>\n",
              "    </tr>\n",
              "  </thead>\n",
              "  <tbody>\n",
              "    <tr>\n",
              "      <th>0</th>\n",
              "      <td>2020-05-15 00:00:00</td>\n",
              "      <td>0.0</td>\n",
              "      <td>0.0</td>\n",
              "      <td>3075.333333</td>\n",
              "    </tr>\n",
              "    <tr>\n",
              "      <th>1</th>\n",
              "      <td>2020-05-15 00:15:00</td>\n",
              "      <td>0.0</td>\n",
              "      <td>0.0</td>\n",
              "      <td>0.000000</td>\n",
              "    </tr>\n",
              "    <tr>\n",
              "      <th>2</th>\n",
              "      <td>2020-05-15 00:30:00</td>\n",
              "      <td>0.0</td>\n",
              "      <td>0.0</td>\n",
              "      <td>0.000000</td>\n",
              "    </tr>\n",
              "    <tr>\n",
              "      <th>3</th>\n",
              "      <td>2020-05-15 00:45:00</td>\n",
              "      <td>0.0</td>\n",
              "      <td>0.0</td>\n",
              "      <td>0.000000</td>\n",
              "    </tr>\n",
              "    <tr>\n",
              "      <th>4</th>\n",
              "      <td>2020-05-15 01:00:00</td>\n",
              "      <td>0.0</td>\n",
              "      <td>0.0</td>\n",
              "      <td>0.000000</td>\n",
              "    </tr>\n",
              "  </tbody>\n",
              "</table>\n",
              "</div>"
            ],
            "text/plain": [
              "            DATE_TIME  DC_POWER  AC_POWER  DAILY_YIELD\n",
              "0 2020-05-15 00:00:00       0.0       0.0  3075.333333\n",
              "1 2020-05-15 00:15:00       0.0       0.0     0.000000\n",
              "2 2020-05-15 00:30:00       0.0       0.0     0.000000\n",
              "3 2020-05-15 00:45:00       0.0       0.0     0.000000\n",
              "4 2020-05-15 01:00:00       0.0       0.0     0.000000"
            ]
          },
          "metadata": {},
          "execution_count": 55
        }
      ]
    },
    {
      "cell_type": "code",
      "metadata": {
        "id": "iUBCmDuc-FVj"
      },
      "source": [
        "solar_data['DATE'] = solar_data['DATE_TIME'].apply(lambda x:x.date())\n",
        "solar_data['TIME'] = solar_data['DATE_TIME'].apply(lambda x:x.time())"
      ],
      "execution_count": 56,
      "outputs": []
    },
    {
      "cell_type": "code",
      "metadata": {
        "colab": {
          "base_uri": "https://localhost:8080/",
          "height": 203
        },
        "id": "lv6h_aZV-QmQ",
        "outputId": "8c71c7a1-77a2-4d92-8db5-052b70623353"
      },
      "source": [
        "solar_data.head()"
      ],
      "execution_count": 57,
      "outputs": [
        {
          "output_type": "execute_result",
          "data": {
            "text/html": [
              "<div>\n",
              "<style scoped>\n",
              "    .dataframe tbody tr th:only-of-type {\n",
              "        vertical-align: middle;\n",
              "    }\n",
              "\n",
              "    .dataframe tbody tr th {\n",
              "        vertical-align: top;\n",
              "    }\n",
              "\n",
              "    .dataframe thead th {\n",
              "        text-align: right;\n",
              "    }\n",
              "</style>\n",
              "<table border=\"1\" class=\"dataframe\">\n",
              "  <thead>\n",
              "    <tr style=\"text-align: right;\">\n",
              "      <th></th>\n",
              "      <th>DATE_TIME</th>\n",
              "      <th>DC_POWER</th>\n",
              "      <th>AC_POWER</th>\n",
              "      <th>DAILY_YIELD</th>\n",
              "      <th>DATE</th>\n",
              "      <th>TIME</th>\n",
              "    </tr>\n",
              "  </thead>\n",
              "  <tbody>\n",
              "    <tr>\n",
              "      <th>0</th>\n",
              "      <td>2020-05-15 00:00:00</td>\n",
              "      <td>0.0</td>\n",
              "      <td>0.0</td>\n",
              "      <td>3075.333333</td>\n",
              "      <td>2020-05-15</td>\n",
              "      <td>00:00:00</td>\n",
              "    </tr>\n",
              "    <tr>\n",
              "      <th>1</th>\n",
              "      <td>2020-05-15 00:15:00</td>\n",
              "      <td>0.0</td>\n",
              "      <td>0.0</td>\n",
              "      <td>0.000000</td>\n",
              "      <td>2020-05-15</td>\n",
              "      <td>00:15:00</td>\n",
              "    </tr>\n",
              "    <tr>\n",
              "      <th>2</th>\n",
              "      <td>2020-05-15 00:30:00</td>\n",
              "      <td>0.0</td>\n",
              "      <td>0.0</td>\n",
              "      <td>0.000000</td>\n",
              "      <td>2020-05-15</td>\n",
              "      <td>00:30:00</td>\n",
              "    </tr>\n",
              "    <tr>\n",
              "      <th>3</th>\n",
              "      <td>2020-05-15 00:45:00</td>\n",
              "      <td>0.0</td>\n",
              "      <td>0.0</td>\n",
              "      <td>0.000000</td>\n",
              "      <td>2020-05-15</td>\n",
              "      <td>00:45:00</td>\n",
              "    </tr>\n",
              "    <tr>\n",
              "      <th>4</th>\n",
              "      <td>2020-05-15 01:00:00</td>\n",
              "      <td>0.0</td>\n",
              "      <td>0.0</td>\n",
              "      <td>0.000000</td>\n",
              "      <td>2020-05-15</td>\n",
              "      <td>01:00:00</td>\n",
              "    </tr>\n",
              "  </tbody>\n",
              "</table>\n",
              "</div>"
            ],
            "text/plain": [
              "            DATE_TIME  DC_POWER  AC_POWER  DAILY_YIELD        DATE      TIME\n",
              "0 2020-05-15 00:00:00       0.0       0.0  3075.333333  2020-05-15  00:00:00\n",
              "1 2020-05-15 00:15:00       0.0       0.0     0.000000  2020-05-15  00:15:00\n",
              "2 2020-05-15 00:30:00       0.0       0.0     0.000000  2020-05-15  00:30:00\n",
              "3 2020-05-15 00:45:00       0.0       0.0     0.000000  2020-05-15  00:45:00\n",
              "4 2020-05-15 01:00:00       0.0       0.0     0.000000  2020-05-15  01:00:00"
            ]
          },
          "metadata": {},
          "execution_count": 57
        }
      ]
    },
    {
      "cell_type": "markdown",
      "metadata": {
        "id": "ADzlaRwe6aJi"
      },
      "source": [
        "###Weather Data"
      ]
    },
    {
      "cell_type": "code",
      "metadata": {
        "colab": {
          "base_uri": "https://localhost:8080/"
        },
        "id": "HzjlyFoa6c8l",
        "outputId": "eefe4088-dbfd-4af0-f775-291fe23cebce"
      },
      "source": [
        "weather_data.shape"
      ],
      "execution_count": 58,
      "outputs": [
        {
          "output_type": "execute_result",
          "data": {
            "text/plain": [
              "(3259, 6)"
            ]
          },
          "metadata": {},
          "execution_count": 58
        }
      ]
    },
    {
      "cell_type": "code",
      "metadata": {
        "colab": {
          "base_uri": "https://localhost:8080/",
          "height": 234
        },
        "id": "cHDSHI8S6nG_",
        "outputId": "e6ffcba0-e60e-4a60-e854-eac118f5eb07"
      },
      "source": [
        "weather_data.describe(include='all').transpose()"
      ],
      "execution_count": 59,
      "outputs": [
        {
          "output_type": "execute_result",
          "data": {
            "text/html": [
              "<div>\n",
              "<style scoped>\n",
              "    .dataframe tbody tr th:only-of-type {\n",
              "        vertical-align: middle;\n",
              "    }\n",
              "\n",
              "    .dataframe tbody tr th {\n",
              "        vertical-align: top;\n",
              "    }\n",
              "\n",
              "    .dataframe thead th {\n",
              "        text-align: right;\n",
              "    }\n",
              "</style>\n",
              "<table border=\"1\" class=\"dataframe\">\n",
              "  <thead>\n",
              "    <tr style=\"text-align: right;\">\n",
              "      <th></th>\n",
              "      <th>count</th>\n",
              "      <th>unique</th>\n",
              "      <th>top</th>\n",
              "      <th>freq</th>\n",
              "      <th>mean</th>\n",
              "      <th>std</th>\n",
              "      <th>min</th>\n",
              "      <th>25%</th>\n",
              "      <th>50%</th>\n",
              "      <th>75%</th>\n",
              "      <th>max</th>\n",
              "    </tr>\n",
              "  </thead>\n",
              "  <tbody>\n",
              "    <tr>\n",
              "      <th>DATE_TIME</th>\n",
              "      <td>3259</td>\n",
              "      <td>3259</td>\n",
              "      <td>5/25/2020 3:15</td>\n",
              "      <td>1</td>\n",
              "      <td>NaN</td>\n",
              "      <td>NaN</td>\n",
              "      <td>NaN</td>\n",
              "      <td>NaN</td>\n",
              "      <td>NaN</td>\n",
              "      <td>NaN</td>\n",
              "      <td>NaN</td>\n",
              "    </tr>\n",
              "    <tr>\n",
              "      <th>PLANT_ID</th>\n",
              "      <td>3259</td>\n",
              "      <td>NaN</td>\n",
              "      <td>NaN</td>\n",
              "      <td>NaN</td>\n",
              "      <td>4.136e+06</td>\n",
              "      <td>0</td>\n",
              "      <td>4.136e+06</td>\n",
              "      <td>4.136e+06</td>\n",
              "      <td>4.136e+06</td>\n",
              "      <td>4.136e+06</td>\n",
              "      <td>4.136e+06</td>\n",
              "    </tr>\n",
              "    <tr>\n",
              "      <th>SOURCE_KEY</th>\n",
              "      <td>3259</td>\n",
              "      <td>1</td>\n",
              "      <td>iq8k7ZNt4Mwm3w0</td>\n",
              "      <td>3259</td>\n",
              "      <td>NaN</td>\n",
              "      <td>NaN</td>\n",
              "      <td>NaN</td>\n",
              "      <td>NaN</td>\n",
              "      <td>NaN</td>\n",
              "      <td>NaN</td>\n",
              "      <td>NaN</td>\n",
              "    </tr>\n",
              "    <tr>\n",
              "      <th>AMBIENT_TEMPERATURE</th>\n",
              "      <td>3259</td>\n",
              "      <td>NaN</td>\n",
              "      <td>NaN</td>\n",
              "      <td>NaN</td>\n",
              "      <td>28.0694</td>\n",
              "      <td>4.06156</td>\n",
              "      <td>20.9424</td>\n",
              "      <td>24.6021</td>\n",
              "      <td>26.9813</td>\n",
              "      <td>31.0568</td>\n",
              "      <td>39.1816</td>\n",
              "    </tr>\n",
              "    <tr>\n",
              "      <th>MODULE_TEMPERATURE</th>\n",
              "      <td>3259</td>\n",
              "      <td>NaN</td>\n",
              "      <td>NaN</td>\n",
              "      <td>NaN</td>\n",
              "      <td>32.7724</td>\n",
              "      <td>11.344</td>\n",
              "      <td>20.2651</td>\n",
              "      <td>23.7169</td>\n",
              "      <td>27.5346</td>\n",
              "      <td>40.4807</td>\n",
              "      <td>66.636</td>\n",
              "    </tr>\n",
              "    <tr>\n",
              "      <th>IRRADIATION</th>\n",
              "      <td>3259</td>\n",
              "      <td>NaN</td>\n",
              "      <td>NaN</td>\n",
              "      <td>NaN</td>\n",
              "      <td>0.232737</td>\n",
              "      <td>0.312693</td>\n",
              "      <td>0</td>\n",
              "      <td>0</td>\n",
              "      <td>0.0190405</td>\n",
              "      <td>0.438717</td>\n",
              "      <td>1.09877</td>\n",
              "    </tr>\n",
              "  </tbody>\n",
              "</table>\n",
              "</div>"
            ],
            "text/plain": [
              "                    count unique  ...        75%        max\n",
              "DATE_TIME            3259   3259  ...        NaN        NaN\n",
              "PLANT_ID             3259    NaN  ...  4.136e+06  4.136e+06\n",
              "SOURCE_KEY           3259      1  ...        NaN        NaN\n",
              "AMBIENT_TEMPERATURE  3259    NaN  ...    31.0568    39.1816\n",
              "MODULE_TEMPERATURE   3259    NaN  ...    40.4807     66.636\n",
              "IRRADIATION          3259    NaN  ...   0.438717    1.09877\n",
              "\n",
              "[6 rows x 11 columns]"
            ]
          },
          "metadata": {},
          "execution_count": 59
        }
      ]
    },
    {
      "cell_type": "markdown",
      "metadata": {
        "id": "WMD4N633-7jx"
      },
      "source": [
        "####Drop Unnecessary Columns\n",
        "\n",
        "*   Dropping **SOURCE_KEY** since its common for all rows\n",
        "*   Dropping **PLANT_ID** since its common for all rows\n",
        "\n",
        "\n",
        "\n",
        "\n",
        "\n"
      ]
    },
    {
      "cell_type": "code",
      "metadata": {
        "colab": {
          "base_uri": "https://localhost:8080/",
          "height": 203
        },
        "id": "U2ElchCA_DAN",
        "outputId": "2e7d2ae7-4b0e-468c-db11-a5868f0dc75c"
      },
      "source": [
        "weather_data.drop(labels='SOURCE_KEY', axis=1, inplace=True)\n",
        "weather_data.drop(labels='PLANT_ID', axis=1, inplace=True)\n",
        "\n",
        "weather_data.head()"
      ],
      "execution_count": 60,
      "outputs": [
        {
          "output_type": "execute_result",
          "data": {
            "text/html": [
              "<div>\n",
              "<style scoped>\n",
              "    .dataframe tbody tr th:only-of-type {\n",
              "        vertical-align: middle;\n",
              "    }\n",
              "\n",
              "    .dataframe tbody tr th {\n",
              "        vertical-align: top;\n",
              "    }\n",
              "\n",
              "    .dataframe thead th {\n",
              "        text-align: right;\n",
              "    }\n",
              "</style>\n",
              "<table border=\"1\" class=\"dataframe\">\n",
              "  <thead>\n",
              "    <tr style=\"text-align: right;\">\n",
              "      <th></th>\n",
              "      <th>DATE_TIME</th>\n",
              "      <th>AMBIENT_TEMPERATURE</th>\n",
              "      <th>MODULE_TEMPERATURE</th>\n",
              "      <th>IRRADIATION</th>\n",
              "    </tr>\n",
              "  </thead>\n",
              "  <tbody>\n",
              "    <tr>\n",
              "      <th>0</th>\n",
              "      <td>5/15/2020 0:00</td>\n",
              "      <td>27.004764</td>\n",
              "      <td>25.060789</td>\n",
              "      <td>0.0</td>\n",
              "    </tr>\n",
              "    <tr>\n",
              "      <th>1</th>\n",
              "      <td>5/15/2020 0:15</td>\n",
              "      <td>26.880811</td>\n",
              "      <td>24.421869</td>\n",
              "      <td>0.0</td>\n",
              "    </tr>\n",
              "    <tr>\n",
              "      <th>2</th>\n",
              "      <td>5/15/2020 0:30</td>\n",
              "      <td>26.682055</td>\n",
              "      <td>24.427290</td>\n",
              "      <td>0.0</td>\n",
              "    </tr>\n",
              "    <tr>\n",
              "      <th>3</th>\n",
              "      <td>5/15/2020 0:45</td>\n",
              "      <td>26.500589</td>\n",
              "      <td>24.420678</td>\n",
              "      <td>0.0</td>\n",
              "    </tr>\n",
              "    <tr>\n",
              "      <th>4</th>\n",
              "      <td>5/15/2020 1:00</td>\n",
              "      <td>26.596148</td>\n",
              "      <td>25.088210</td>\n",
              "      <td>0.0</td>\n",
              "    </tr>\n",
              "  </tbody>\n",
              "</table>\n",
              "</div>"
            ],
            "text/plain": [
              "        DATE_TIME  AMBIENT_TEMPERATURE  MODULE_TEMPERATURE  IRRADIATION\n",
              "0  5/15/2020 0:00            27.004764           25.060789          0.0\n",
              "1  5/15/2020 0:15            26.880811           24.421869          0.0\n",
              "2  5/15/2020 0:30            26.682055           24.427290          0.0\n",
              "3  5/15/2020 0:45            26.500589           24.420678          0.0\n",
              "4  5/15/2020 1:00            26.596148           25.088210          0.0"
            ]
          },
          "metadata": {},
          "execution_count": 60
        }
      ]
    },
    {
      "cell_type": "markdown",
      "metadata": {
        "id": "FfUxRPps_QVR"
      },
      "source": [
        "####Missing Value Check"
      ]
    },
    {
      "cell_type": "code",
      "metadata": {
        "colab": {
          "base_uri": "https://localhost:8080/"
        },
        "id": "KbJYLXRmAXDj",
        "outputId": "5412ffbe-793e-4ad5-a5e9-9b5f70893172"
      },
      "source": [
        "weather_data.isnull().sum()"
      ],
      "execution_count": 61,
      "outputs": [
        {
          "output_type": "execute_result",
          "data": {
            "text/plain": [
              "DATE_TIME              0\n",
              "AMBIENT_TEMPERATURE    0\n",
              "MODULE_TEMPERATURE     0\n",
              "IRRADIATION            0\n",
              "dtype: int64"
            ]
          },
          "metadata": {},
          "execution_count": 61
        }
      ]
    },
    {
      "cell_type": "markdown",
      "metadata": {
        "id": "SLThgbu9CHJb"
      },
      "source": [
        "####Formating Date & Time"
      ]
    },
    {
      "cell_type": "code",
      "metadata": {
        "colab": {
          "base_uri": "https://localhost:8080/",
          "height": 203
        },
        "id": "d584M4ycCGYH",
        "outputId": "8a3e71e2-fcf3-4154-9b5e-01378e00d327"
      },
      "source": [
        "weather_data['DATE_TIME'] = pd.to_datetime(weather_data['DATE_TIME'])\n",
        "weather_data.head()"
      ],
      "execution_count": 62,
      "outputs": [
        {
          "output_type": "execute_result",
          "data": {
            "text/html": [
              "<div>\n",
              "<style scoped>\n",
              "    .dataframe tbody tr th:only-of-type {\n",
              "        vertical-align: middle;\n",
              "    }\n",
              "\n",
              "    .dataframe tbody tr th {\n",
              "        vertical-align: top;\n",
              "    }\n",
              "\n",
              "    .dataframe thead th {\n",
              "        text-align: right;\n",
              "    }\n",
              "</style>\n",
              "<table border=\"1\" class=\"dataframe\">\n",
              "  <thead>\n",
              "    <tr style=\"text-align: right;\">\n",
              "      <th></th>\n",
              "      <th>DATE_TIME</th>\n",
              "      <th>AMBIENT_TEMPERATURE</th>\n",
              "      <th>MODULE_TEMPERATURE</th>\n",
              "      <th>IRRADIATION</th>\n",
              "    </tr>\n",
              "  </thead>\n",
              "  <tbody>\n",
              "    <tr>\n",
              "      <th>0</th>\n",
              "      <td>2020-05-15 00:00:00</td>\n",
              "      <td>27.004764</td>\n",
              "      <td>25.060789</td>\n",
              "      <td>0.0</td>\n",
              "    </tr>\n",
              "    <tr>\n",
              "      <th>1</th>\n",
              "      <td>2020-05-15 00:15:00</td>\n",
              "      <td>26.880811</td>\n",
              "      <td>24.421869</td>\n",
              "      <td>0.0</td>\n",
              "    </tr>\n",
              "    <tr>\n",
              "      <th>2</th>\n",
              "      <td>2020-05-15 00:30:00</td>\n",
              "      <td>26.682055</td>\n",
              "      <td>24.427290</td>\n",
              "      <td>0.0</td>\n",
              "    </tr>\n",
              "    <tr>\n",
              "      <th>3</th>\n",
              "      <td>2020-05-15 00:45:00</td>\n",
              "      <td>26.500589</td>\n",
              "      <td>24.420678</td>\n",
              "      <td>0.0</td>\n",
              "    </tr>\n",
              "    <tr>\n",
              "      <th>4</th>\n",
              "      <td>2020-05-15 01:00:00</td>\n",
              "      <td>26.596148</td>\n",
              "      <td>25.088210</td>\n",
              "      <td>0.0</td>\n",
              "    </tr>\n",
              "  </tbody>\n",
              "</table>\n",
              "</div>"
            ],
            "text/plain": [
              "            DATE_TIME  AMBIENT_TEMPERATURE  MODULE_TEMPERATURE  IRRADIATION\n",
              "0 2020-05-15 00:00:00            27.004764           25.060789          0.0\n",
              "1 2020-05-15 00:15:00            26.880811           24.421869          0.0\n",
              "2 2020-05-15 00:30:00            26.682055           24.427290          0.0\n",
              "3 2020-05-15 00:45:00            26.500589           24.420678          0.0\n",
              "4 2020-05-15 01:00:00            26.596148           25.088210          0.0"
            ]
          },
          "metadata": {},
          "execution_count": 62
        }
      ]
    },
    {
      "cell_type": "markdown",
      "metadata": {
        "id": "j9vJhtvIBrDL"
      },
      "source": [
        "###Merge Solar & Weather Data based on the DATE_TIME"
      ]
    },
    {
      "cell_type": "code",
      "metadata": {
        "id": "UlS08mOXBqG9"
      },
      "source": [
        "main_df = pd.merge(solar_data, weather_data, how='inner', on='DATE_TIME')"
      ],
      "execution_count": 63,
      "outputs": []
    },
    {
      "cell_type": "code",
      "metadata": {
        "colab": {
          "base_uri": "https://localhost:8080/",
          "height": 203
        },
        "id": "m6Vuja8ICRUG",
        "outputId": "d01c1918-898c-4da3-87c0-f28369237b28"
      },
      "source": [
        "main_df.head()"
      ],
      "execution_count": 64,
      "outputs": [
        {
          "output_type": "execute_result",
          "data": {
            "text/html": [
              "<div>\n",
              "<style scoped>\n",
              "    .dataframe tbody tr th:only-of-type {\n",
              "        vertical-align: middle;\n",
              "    }\n",
              "\n",
              "    .dataframe tbody tr th {\n",
              "        vertical-align: top;\n",
              "    }\n",
              "\n",
              "    .dataframe thead th {\n",
              "        text-align: right;\n",
              "    }\n",
              "</style>\n",
              "<table border=\"1\" class=\"dataframe\">\n",
              "  <thead>\n",
              "    <tr style=\"text-align: right;\">\n",
              "      <th></th>\n",
              "      <th>DATE_TIME</th>\n",
              "      <th>DC_POWER</th>\n",
              "      <th>AC_POWER</th>\n",
              "      <th>DAILY_YIELD</th>\n",
              "      <th>DATE</th>\n",
              "      <th>TIME</th>\n",
              "      <th>AMBIENT_TEMPERATURE</th>\n",
              "      <th>MODULE_TEMPERATURE</th>\n",
              "      <th>IRRADIATION</th>\n",
              "    </tr>\n",
              "  </thead>\n",
              "  <tbody>\n",
              "    <tr>\n",
              "      <th>0</th>\n",
              "      <td>2020-05-15 00:00:00</td>\n",
              "      <td>0.0</td>\n",
              "      <td>0.0</td>\n",
              "      <td>3075.333333</td>\n",
              "      <td>2020-05-15</td>\n",
              "      <td>00:00:00</td>\n",
              "      <td>27.004764</td>\n",
              "      <td>25.060789</td>\n",
              "      <td>0.0</td>\n",
              "    </tr>\n",
              "    <tr>\n",
              "      <th>1</th>\n",
              "      <td>2020-05-15 00:15:00</td>\n",
              "      <td>0.0</td>\n",
              "      <td>0.0</td>\n",
              "      <td>0.000000</td>\n",
              "      <td>2020-05-15</td>\n",
              "      <td>00:15:00</td>\n",
              "      <td>26.880811</td>\n",
              "      <td>24.421869</td>\n",
              "      <td>0.0</td>\n",
              "    </tr>\n",
              "    <tr>\n",
              "      <th>2</th>\n",
              "      <td>2020-05-15 00:30:00</td>\n",
              "      <td>0.0</td>\n",
              "      <td>0.0</td>\n",
              "      <td>0.000000</td>\n",
              "      <td>2020-05-15</td>\n",
              "      <td>00:30:00</td>\n",
              "      <td>26.682055</td>\n",
              "      <td>24.427290</td>\n",
              "      <td>0.0</td>\n",
              "    </tr>\n",
              "    <tr>\n",
              "      <th>3</th>\n",
              "      <td>2020-05-15 00:45:00</td>\n",
              "      <td>0.0</td>\n",
              "      <td>0.0</td>\n",
              "      <td>0.000000</td>\n",
              "      <td>2020-05-15</td>\n",
              "      <td>00:45:00</td>\n",
              "      <td>26.500589</td>\n",
              "      <td>24.420678</td>\n",
              "      <td>0.0</td>\n",
              "    </tr>\n",
              "    <tr>\n",
              "      <th>4</th>\n",
              "      <td>2020-05-15 01:00:00</td>\n",
              "      <td>0.0</td>\n",
              "      <td>0.0</td>\n",
              "      <td>0.000000</td>\n",
              "      <td>2020-05-15</td>\n",
              "      <td>01:00:00</td>\n",
              "      <td>26.596148</td>\n",
              "      <td>25.088210</td>\n",
              "      <td>0.0</td>\n",
              "    </tr>\n",
              "  </tbody>\n",
              "</table>\n",
              "</div>"
            ],
            "text/plain": [
              "            DATE_TIME  DC_POWER  ...  MODULE_TEMPERATURE  IRRADIATION\n",
              "0 2020-05-15 00:00:00       0.0  ...           25.060789          0.0\n",
              "1 2020-05-15 00:15:00       0.0  ...           24.421869          0.0\n",
              "2 2020-05-15 00:30:00       0.0  ...           24.427290          0.0\n",
              "3 2020-05-15 00:45:00       0.0  ...           24.420678          0.0\n",
              "4 2020-05-15 01:00:00       0.0  ...           25.088210          0.0\n",
              "\n",
              "[5 rows x 9 columns]"
            ]
          },
          "metadata": {},
          "execution_count": 64
        }
      ]
    },
    {
      "cell_type": "markdown",
      "metadata": {
        "id": "Mb7Yys9NC5yQ"
      },
      "source": [
        "### Creating Unique ID and Rearranging Columns"
      ]
    },
    {
      "cell_type": "code",
      "metadata": {
        "colab": {
          "base_uri": "https://localhost:8080/"
        },
        "id": "lQ9zyQrJDIFE",
        "outputId": "de7e6fda-0502-475a-9936-1dfba0414349"
      },
      "source": [
        "main_df.index"
      ],
      "execution_count": 65,
      "outputs": [
        {
          "output_type": "execute_result",
          "data": {
            "text/plain": [
              "Int64Index([   0,    1,    2,    3,    4,    5,    6,    7,    8,    9,\n",
              "            ...\n",
              "            3249, 3250, 3251, 3252, 3253, 3254, 3255, 3256, 3257, 3258],\n",
              "           dtype='int64', length=3259)"
            ]
          },
          "metadata": {},
          "execution_count": 65
        }
      ]
    },
    {
      "cell_type": "code",
      "metadata": {
        "colab": {
          "base_uri": "https://localhost:8080/",
          "height": 203
        },
        "id": "JrwV83EtDS86",
        "outputId": "e0be07f7-d040-4a9d-ce20-7974c4da5fa9"
      },
      "source": [
        "main_df['ID'] = main_df.index+1\n",
        "main_df.head()"
      ],
      "execution_count": 66,
      "outputs": [
        {
          "output_type": "execute_result",
          "data": {
            "text/html": [
              "<div>\n",
              "<style scoped>\n",
              "    .dataframe tbody tr th:only-of-type {\n",
              "        vertical-align: middle;\n",
              "    }\n",
              "\n",
              "    .dataframe tbody tr th {\n",
              "        vertical-align: top;\n",
              "    }\n",
              "\n",
              "    .dataframe thead th {\n",
              "        text-align: right;\n",
              "    }\n",
              "</style>\n",
              "<table border=\"1\" class=\"dataframe\">\n",
              "  <thead>\n",
              "    <tr style=\"text-align: right;\">\n",
              "      <th></th>\n",
              "      <th>DATE_TIME</th>\n",
              "      <th>DC_POWER</th>\n",
              "      <th>AC_POWER</th>\n",
              "      <th>DAILY_YIELD</th>\n",
              "      <th>DATE</th>\n",
              "      <th>TIME</th>\n",
              "      <th>AMBIENT_TEMPERATURE</th>\n",
              "      <th>MODULE_TEMPERATURE</th>\n",
              "      <th>IRRADIATION</th>\n",
              "      <th>ID</th>\n",
              "    </tr>\n",
              "  </thead>\n",
              "  <tbody>\n",
              "    <tr>\n",
              "      <th>0</th>\n",
              "      <td>2020-05-15 00:00:00</td>\n",
              "      <td>0.0</td>\n",
              "      <td>0.0</td>\n",
              "      <td>3075.333333</td>\n",
              "      <td>2020-05-15</td>\n",
              "      <td>00:00:00</td>\n",
              "      <td>27.004764</td>\n",
              "      <td>25.060789</td>\n",
              "      <td>0.0</td>\n",
              "      <td>1</td>\n",
              "    </tr>\n",
              "    <tr>\n",
              "      <th>1</th>\n",
              "      <td>2020-05-15 00:15:00</td>\n",
              "      <td>0.0</td>\n",
              "      <td>0.0</td>\n",
              "      <td>0.000000</td>\n",
              "      <td>2020-05-15</td>\n",
              "      <td>00:15:00</td>\n",
              "      <td>26.880811</td>\n",
              "      <td>24.421869</td>\n",
              "      <td>0.0</td>\n",
              "      <td>2</td>\n",
              "    </tr>\n",
              "    <tr>\n",
              "      <th>2</th>\n",
              "      <td>2020-05-15 00:30:00</td>\n",
              "      <td>0.0</td>\n",
              "      <td>0.0</td>\n",
              "      <td>0.000000</td>\n",
              "      <td>2020-05-15</td>\n",
              "      <td>00:30:00</td>\n",
              "      <td>26.682055</td>\n",
              "      <td>24.427290</td>\n",
              "      <td>0.0</td>\n",
              "      <td>3</td>\n",
              "    </tr>\n",
              "    <tr>\n",
              "      <th>3</th>\n",
              "      <td>2020-05-15 00:45:00</td>\n",
              "      <td>0.0</td>\n",
              "      <td>0.0</td>\n",
              "      <td>0.000000</td>\n",
              "      <td>2020-05-15</td>\n",
              "      <td>00:45:00</td>\n",
              "      <td>26.500589</td>\n",
              "      <td>24.420678</td>\n",
              "      <td>0.0</td>\n",
              "      <td>4</td>\n",
              "    </tr>\n",
              "    <tr>\n",
              "      <th>4</th>\n",
              "      <td>2020-05-15 01:00:00</td>\n",
              "      <td>0.0</td>\n",
              "      <td>0.0</td>\n",
              "      <td>0.000000</td>\n",
              "      <td>2020-05-15</td>\n",
              "      <td>01:00:00</td>\n",
              "      <td>26.596148</td>\n",
              "      <td>25.088210</td>\n",
              "      <td>0.0</td>\n",
              "      <td>5</td>\n",
              "    </tr>\n",
              "  </tbody>\n",
              "</table>\n",
              "</div>"
            ],
            "text/plain": [
              "            DATE_TIME  DC_POWER  AC_POWER  ...  MODULE_TEMPERATURE IRRADIATION ID\n",
              "0 2020-05-15 00:00:00       0.0       0.0  ...           25.060789         0.0  1\n",
              "1 2020-05-15 00:15:00       0.0       0.0  ...           24.421869         0.0  2\n",
              "2 2020-05-15 00:30:00       0.0       0.0  ...           24.427290         0.0  3\n",
              "3 2020-05-15 00:45:00       0.0       0.0  ...           24.420678         0.0  4\n",
              "4 2020-05-15 01:00:00       0.0       0.0  ...           25.088210         0.0  5\n",
              "\n",
              "[5 rows x 10 columns]"
            ]
          },
          "metadata": {},
          "execution_count": 66
        }
      ]
    },
    {
      "cell_type": "code",
      "metadata": {
        "id": "7fB2ZsjfDf1K"
      },
      "source": [
        "main_df.drop(labels='DATE_TIME', axis=1, inplace=True)"
      ],
      "execution_count": 67,
      "outputs": []
    },
    {
      "cell_type": "code",
      "metadata": {
        "colab": {
          "base_uri": "https://localhost:8080/"
        },
        "id": "KCt5_Zh-EBTA",
        "outputId": "ac587707-9718-4bf5-a722-be25d90a7bff"
      },
      "source": [
        "main_df.columns"
      ],
      "execution_count": 68,
      "outputs": [
        {
          "output_type": "execute_result",
          "data": {
            "text/plain": [
              "Index(['DC_POWER', 'AC_POWER', 'DAILY_YIELD', 'DATE', 'TIME',\n",
              "       'AMBIENT_TEMPERATURE', 'MODULE_TEMPERATURE', 'IRRADIATION', 'ID'],\n",
              "      dtype='object')"
            ]
          },
          "metadata": {},
          "execution_count": 68
        }
      ]
    },
    {
      "cell_type": "code",
      "metadata": {
        "id": "jph7oxUXEFv3"
      },
      "source": [
        "main_df = main_df[['ID', 'DATE', 'TIME','DC_POWER', 'AC_POWER', 'DAILY_YIELD','AMBIENT_TEMPERATURE', 'MODULE_TEMPERATURE', 'IRRADIATION']]"
      ],
      "execution_count": 69,
      "outputs": []
    },
    {
      "cell_type": "code",
      "metadata": {
        "colab": {
          "base_uri": "https://localhost:8080/",
          "height": 203
        },
        "id": "a9uBi0qQEXQi",
        "outputId": "747e35b1-4c8f-46e0-ae4d-0f7b529bdc73"
      },
      "source": [
        "main_df.head()"
      ],
      "execution_count": 70,
      "outputs": [
        {
          "output_type": "execute_result",
          "data": {
            "text/html": [
              "<div>\n",
              "<style scoped>\n",
              "    .dataframe tbody tr th:only-of-type {\n",
              "        vertical-align: middle;\n",
              "    }\n",
              "\n",
              "    .dataframe tbody tr th {\n",
              "        vertical-align: top;\n",
              "    }\n",
              "\n",
              "    .dataframe thead th {\n",
              "        text-align: right;\n",
              "    }\n",
              "</style>\n",
              "<table border=\"1\" class=\"dataframe\">\n",
              "  <thead>\n",
              "    <tr style=\"text-align: right;\">\n",
              "      <th></th>\n",
              "      <th>ID</th>\n",
              "      <th>DATE</th>\n",
              "      <th>TIME</th>\n",
              "      <th>DC_POWER</th>\n",
              "      <th>AC_POWER</th>\n",
              "      <th>DAILY_YIELD</th>\n",
              "      <th>AMBIENT_TEMPERATURE</th>\n",
              "      <th>MODULE_TEMPERATURE</th>\n",
              "      <th>IRRADIATION</th>\n",
              "    </tr>\n",
              "  </thead>\n",
              "  <tbody>\n",
              "    <tr>\n",
              "      <th>0</th>\n",
              "      <td>1</td>\n",
              "      <td>2020-05-15</td>\n",
              "      <td>00:00:00</td>\n",
              "      <td>0.0</td>\n",
              "      <td>0.0</td>\n",
              "      <td>3075.333333</td>\n",
              "      <td>27.004764</td>\n",
              "      <td>25.060789</td>\n",
              "      <td>0.0</td>\n",
              "    </tr>\n",
              "    <tr>\n",
              "      <th>1</th>\n",
              "      <td>2</td>\n",
              "      <td>2020-05-15</td>\n",
              "      <td>00:15:00</td>\n",
              "      <td>0.0</td>\n",
              "      <td>0.0</td>\n",
              "      <td>0.000000</td>\n",
              "      <td>26.880811</td>\n",
              "      <td>24.421869</td>\n",
              "      <td>0.0</td>\n",
              "    </tr>\n",
              "    <tr>\n",
              "      <th>2</th>\n",
              "      <td>3</td>\n",
              "      <td>2020-05-15</td>\n",
              "      <td>00:30:00</td>\n",
              "      <td>0.0</td>\n",
              "      <td>0.0</td>\n",
              "      <td>0.000000</td>\n",
              "      <td>26.682055</td>\n",
              "      <td>24.427290</td>\n",
              "      <td>0.0</td>\n",
              "    </tr>\n",
              "    <tr>\n",
              "      <th>3</th>\n",
              "      <td>4</td>\n",
              "      <td>2020-05-15</td>\n",
              "      <td>00:45:00</td>\n",
              "      <td>0.0</td>\n",
              "      <td>0.0</td>\n",
              "      <td>0.000000</td>\n",
              "      <td>26.500589</td>\n",
              "      <td>24.420678</td>\n",
              "      <td>0.0</td>\n",
              "    </tr>\n",
              "    <tr>\n",
              "      <th>4</th>\n",
              "      <td>5</td>\n",
              "      <td>2020-05-15</td>\n",
              "      <td>01:00:00</td>\n",
              "      <td>0.0</td>\n",
              "      <td>0.0</td>\n",
              "      <td>0.000000</td>\n",
              "      <td>26.596148</td>\n",
              "      <td>25.088210</td>\n",
              "      <td>0.0</td>\n",
              "    </tr>\n",
              "  </tbody>\n",
              "</table>\n",
              "</div>"
            ],
            "text/plain": [
              "   ID        DATE  ... MODULE_TEMPERATURE  IRRADIATION\n",
              "0   1  2020-05-15  ...          25.060789          0.0\n",
              "1   2  2020-05-15  ...          24.421869          0.0\n",
              "2   3  2020-05-15  ...          24.427290          0.0\n",
              "3   4  2020-05-15  ...          24.420678          0.0\n",
              "4   5  2020-05-15  ...          25.088210          0.0\n",
              "\n",
              "[5 rows x 9 columns]"
            ]
          },
          "metadata": {},
          "execution_count": 70
        }
      ]
    }
  ]
}